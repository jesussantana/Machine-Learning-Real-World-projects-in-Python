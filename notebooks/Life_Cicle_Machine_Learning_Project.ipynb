{
 "metadata": {
  "language_info": {
   "codemirror_mode": {
    "name": "ipython",
    "version": 3
   },
   "file_extension": ".py",
   "mimetype": "text/x-python",
   "name": "python",
   "nbconvert_exporter": "python",
   "pygments_lexer": "ipython3",
   "version": "3.8.5"
  },
  "orig_nbformat": 2,
  "kernelspec": {
   "name": "python385jvsc74a57bd031f2aee4e71d21fbe5cf8b01ff0e069b9275f58929596ceb00d14d90e3e16cd6",
   "display_name": "Python 3.8.5 64-bit"
  },
  "metadata": {
   "interpreter": {
    "hash": "31f2aee4e71d21fbe5cf8b01ff0e069b9275f58929596ceb00d14d90e3e16cd6"
   }
  }
 },
 "nbformat": 4,
 "nbformat_minor": 2,
 "cells": [
  {
   "source": [
    "# Life Cicle of Machine Learning Project"
   ],
   "cell_type": "markdown",
   "metadata": {}
  },
  {
   "source": [
    "## The machine learning life cycle is the cyclical process that data science projects follow. It defines each step that an organization should follow to take advantage of machine learning and artificial intelligence (AI) to derive practical business value."
   ],
   "cell_type": "markdown",
   "metadata": {}
  },
  {
   "source": [
    "- Use-case\n",
    "- Businnes Understanding\n",
    "- Data Finding"
   ],
   "cell_type": "markdown",
   "metadata": {}
  },
  {
   "source": [
    "  - Gathering Data\n",
    "  - Data exploration:\n",
    "  - Data preparation\n",
    "  - Data Wrangling\n",
    "  - Analyse Data\n",
    "  - Train the model\n",
    "  - Test the model\n",
    "  - Deployment"
   ],
   "cell_type": "markdown",
   "metadata": {}
  }
 ]
}